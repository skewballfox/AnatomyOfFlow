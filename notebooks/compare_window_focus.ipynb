{
 "cells": [
  {
   "cell_type": "code",
   "execution_count": 51,
   "metadata": {},
   "outputs": [],
   "source": [
    "import polars as pl\n",
    "import numpy as np\n",
    "from pathlib import Path\n",
    "import plotly.express as px\n",
    "project_dir = Path(globals()['_dh'][0]).parent\n",
    "import json\n",
    "from aw_client.client import ActivityWatchClient\n",
    "from datetime import datetime, timedelta,timezone\n",
    "from typing import List,Tuple\n"
   ]
  },
  {
   "attachments": {},
   "cell_type": "markdown",
   "metadata": {},
   "source": [
    "\n",
    "First, let's examine two intervals of time, the first a day where I was entirely unfocused and had little capacity or incentive to work on anything productive\n",
    "\n",
    "Second, a day where I spent a good portion of my time either coding, or examining resources related to whatever I was working on"
   ]
  },
  {
   "cell_type": "code",
   "execution_count": 52,
   "metadata": {},
   "outputs": [
    {
     "name": "stdout",
     "output_type": "stream",
     "text": [
      "[{'data': {'status': 'not-afk'},\n",
      "  'duration': datetime.timedelta(seconds=567, microseconds=170232),\n",
      "  'id': 46997,\n",
      "  'timestamp': datetime.datetime(2023, 4, 27, 14, 50, 32, 829000, tzinfo=datetime.timezone.utc)},\n",
      " {'data': {'status': 'afk'},\n",
      "  'duration': datetime.timedelta(seconds=54, microseconds=156187),\n",
      "  'id': 46996,\n",
      "  'timestamp': datetime.datetime(2023, 4, 27, 14, 49, 34, 334000, tzinfo=datetime.timezone.utc)},\n",
      " {'data': {'status': 'not-afk'},\n",
      "  'duration': datetime.timedelta(seconds=10, microseconds=268224),\n",
      "  'id': 46992,\n",
      "  'timestamp': datetime.datetime(2023, 4, 27, 14, 47, 23, 222000, tzinfo=datetime.timezone.utc)},\n",
      " {'data': {'status': 'afk'},\n",
      "  'duration': datetime.timedelta(seconds=34, microseconds=614439),\n",
      "  'id': 46991,\n",
      "  'timestamp': datetime.datetime(2023, 4, 27, 14, 46, 43, 876000, tzinfo=datetime.timezone.utc)},\n",
      " {'data': {'status': 'not-afk'},\n",
      "  'duration': datetime.timedelta(seconds=4772, microseconds=189252),\n",
      "  'id': 46549,\n",
      "  'timestamp': datetime.datetime(2023, 4, 27, 13, 25, 11, 303000, tzinfo=datetime.timezone.utc)},\n",
      " {'data': {'status': 'afk'},\n",
      "  'duration': datetime.timedelta(seconds=989, microseconds=781547),\n",
      "  'id': 46548,\n",
      "  'timestamp': datetime.datetime(2023, 4, 27, 13, 8, 38, 709000, tzinfo=datetime.timezone.utc)},\n",
      " {'data': {'status': 'not-afk'},\n",
      "  'duration': datetime.timedelta(seconds=262, microseconds=906215),\n",
      "  'id': 46529,\n",
      "  'timestamp': datetime.datetime(2023, 4, 27, 13, 2, 15, 586000, tzinfo=datetime.timezone.utc)},\n",
      " {'data': {'status': 'afk'},\n",
      "  'duration': datetime.timedelta(seconds=234, microseconds=884981),\n",
      "  'id': 46528,\n",
      "  'timestamp': datetime.datetime(2023, 4, 27, 12, 58, 18, 608000, tzinfo=datetime.timezone.utc)},\n",
      " {'data': {'status': 'not-afk'},\n",
      "  'duration': datetime.timedelta(seconds=213, microseconds=848466),\n",
      "  'id': 46490,\n",
      "  'timestamp': datetime.datetime(2023, 4, 27, 12, 52, 44, 634000, tzinfo=datetime.timezone.utc)},\n",
      " {'data': {'status': 'afk'},\n",
      "  'duration': datetime.timedelta(seconds=317, microseconds=574759),\n",
      "  'id': 46489,\n",
      "  'timestamp': datetime.datetime(2023, 4, 27, 12, 47, 25, 918000, tzinfo=datetime.timezone.utc)},\n",
      " {'data': {'status': 'not-afk'},\n",
      "  'duration': datetime.timedelta(seconds=128, microseconds=925735),\n",
      "  'id': 46479,\n",
      "  'timestamp': datetime.datetime(2023, 4, 27, 12, 43, 14, 564000, tzinfo=datetime.timezone.utc)},\n",
      " {'data': {'status': 'afk'},\n",
      "  'duration': datetime.timedelta(seconds=4163, microseconds=94933),\n",
      "  'id': 46478,\n",
      "  'timestamp': datetime.datetime(2023, 4, 27, 11, 33, 50, 398000, tzinfo=datetime.timezone.utc)},\n",
      " {'data': {'status': 'afk'},\n",
      "  'duration': datetime.timedelta(seconds=4005, microseconds=756975),\n",
      "  'id': 46476,\n",
      "  'timestamp': datetime.datetime(2023, 4, 27, 10, 26, 48, 492000, tzinfo=datetime.timezone.utc)},\n",
      " {'data': {'status': 'afk'},\n",
      "  'duration': datetime.timedelta(seconds=23198, microseconds=490683),\n",
      "  'id': 46471,\n",
      "  'timestamp': datetime.datetime(2023, 4, 27, 4, 0, tzinfo=datetime.timezone.utc)}]\n",
      "{'id': 50793, 'timestamp': datetime.datetime(2023, 4, 30, 4, 0, tzinfo=datetime.timezone.utc), 'duration': datetime.timedelta(seconds=1538, microseconds=491739), 'data': {'status': 'afk'}}\n",
      "{'id': 50794, 'timestamp': datetime.datetime(2023, 4, 30, 4, 25, 48, 496000, tzinfo=datetime.timezone.utc), 'duration': datetime.timedelta(seconds=2905, microseconds=53892), 'data': {'status': 'afk'}}\n",
      "{'id': 50795, 'timestamp': datetime.datetime(2023, 4, 30, 5, 14, 19, 785000, tzinfo=datetime.timezone.utc), 'duration': datetime.timedelta(seconds=24, microseconds=148560), 'data': {'status': 'afk'}}\n",
      "{'id': 50796, 'timestamp': datetime.datetime(2023, 4, 30, 5, 14, 51, 957000, tzinfo=datetime.timezone.utc), 'duration': datetime.timedelta(seconds=2571, microseconds=527410), 'data': {'status': 'afk'}}\n",
      "{'id': 50797, 'timestamp': datetime.datetime(2023, 4, 30, 5, 57, 53, 496000, tzinfo=datetime.timezone.utc), 'duration': datetime.timedelta(seconds=1920, microseconds=132), 'data': {'status': 'afk'}}\n",
      "{'id': 50798, 'timestamp': datetime.datetime(2023, 4, 30, 6, 30, 3, 485000, tzinfo=datetime.timezone.utc), 'duration': datetime.timedelta(seconds=11190, microseconds=13429), 'data': {'status': 'afk'}}\n",
      "{'id': 50801, 'timestamp': datetime.datetime(2023, 4, 30, 9, 36, 43, 498000, tzinfo=datetime.timezone.utc), 'duration': datetime.timedelta(seconds=9279, microseconds=987971), 'data': {'status': 'afk'}}\n",
      "{'id': 50804, 'timestamp': datetime.datetime(2023, 4, 30, 12, 11, 33, 486000, tzinfo=datetime.timezone.utc), 'duration': datetime.timedelta(seconds=4305, microseconds=8562), 'data': {'status': 'afk'}}\n",
      "{'id': 50805, 'timestamp': datetime.datetime(2023, 4, 30, 13, 23, 20, 159000, tzinfo=datetime.timezone.utc), 'duration': datetime.timedelta(seconds=3, microseconds=335582), 'data': {'status': 'not-afk'}}\n",
      "{'id': 46471, 'timestamp': datetime.datetime(2023, 4, 27, 4, 0, tzinfo=datetime.timezone.utc), 'duration': datetime.timedelta(seconds=23198, microseconds=490683), 'data': {'status': 'afk'}}\n",
      "{'id': 46476, 'timestamp': datetime.datetime(2023, 4, 27, 10, 26, 48, 492000, tzinfo=datetime.timezone.utc), 'duration': datetime.timedelta(seconds=4005, microseconds=756975), 'data': {'status': 'afk'}}\n",
      "{'id': 46478, 'timestamp': datetime.datetime(2023, 4, 27, 11, 33, 50, 398000, tzinfo=datetime.timezone.utc), 'duration': datetime.timedelta(seconds=4163, microseconds=94933), 'data': {'status': 'afk'}}\n",
      "{'id': 46479, 'timestamp': datetime.datetime(2023, 4, 27, 12, 43, 14, 564000, tzinfo=datetime.timezone.utc), 'duration': datetime.timedelta(seconds=128, microseconds=925735), 'data': {'status': 'not-afk'}}\n",
      "2023-04-27 07:43:14.564000-05:00\n"
     ]
    }
   ],
   "source": [
    "from pprint import pprint\n",
    "from aw_core import Event\n",
    "hostname='Dominion'\n",
    "client=ActivityWatchClient(hostname)\n",
    "\n",
    "\n",
    "\n",
    "aw_window_events=client.get_events(f'aw-watcher-window_{hostname}')\n",
    "aw_afk_events=client.get_events(f'aw-watcher-afk_{hostname}')\n",
    "\n",
    "def get_bounds(client: ActivityWatchClient,start: datetime,end: datetime) -> Tuple[datetime, datetime]:\n",
    "    afk_events=client.get_events(f'aw-watcher-afk_{hostname}',start=start,end=end)\n",
    "    \n",
    "    new_start=start\n",
    "    new_end=end\n",
    "    for event in afk_events[::-1]:\n",
    "        print(event)\n",
    "        if event.data['status']=='not-afk':\n",
    "            \n",
    "            new_start=event.timestamp\n",
    "            break\n",
    "    for event in afk_events:\n",
    "        if event.data['status']=='not-afk':\n",
    "            new_end=event.timestamp\n",
    "            break\n",
    "    return new_start,new_end\n",
    "    \n",
    "\n",
    "unfocused_start=datetime.fromisoformat('2023-04-29T23:00:00').astimezone(tz=timezone(timedelta(0)))\n",
    "unfocused_end=datetime.fromisoformat('2023-04-30T10:00:00').astimezone(tz=timezone(timedelta(0)))\n",
    "\n",
    "flow_start=datetime.fromisoformat('2023-04-26T23:00:00').astimezone(tz=timezone(timedelta(0)))\n",
    "flow_end=datetime.fromisoformat('2023-04-27T10:00:00').astimezone(tz=timezone(timedelta(0)))\n",
    "pprint(client.get_events(f'aw-watcher-afk_{hostname}',start=flow_start,end=flow_end))\n",
    "unfocused_start,unfocused_end=get_bounds(client,unfocused_start,unfocused_end)\n",
    "flow_start,flow_end=get_bounds(client,flow_start,flow_end)\n",
    "print(flow_start.astimezone())\n",
    "unfocused_events=client.get_events(f'aw-watcher-window_{hostname}',start=unfocused_start,end=unfocused_end)\n",
    "flow_events=client.get_events(f'aw-watcher-window_{hostname}',start=flow_start,end=flow_end)\n"
   ]
  },
  {
   "cell_type": "code",
   "execution_count": 54,
   "metadata": {},
   "outputs": [
    {
     "name": "stdout",
     "output_type": "stream",
     "text": [
      "afk event 1: {'id': 46476, 'timestamp': datetime.datetime(2023, 4, 27, 10, 26, 48, 492000, tzinfo=datetime.timezone.utc), 'duration': datetime.timedelta(seconds=4005, microseconds=756975), 'data': {'status': 'afk'}}\n",
      "Noise event: {'id': 46477, 'timestamp': datetime.datetime(2023, 4, 27, 11, 33, 50, 387000, tzinfo=datetime.timezone.utc), 'duration': datetime.timedelta(seconds=4165, microseconds=290022), 'data': {'app': 'Ripcord', 'title': 'Slack Authorization Failed'}}\n",
      "afk event 2: {'id': 46478, 'timestamp': datetime.datetime(2023, 4, 27, 11, 33, 50, 398000, tzinfo=datetime.timezone.utc), 'duration': datetime.timedelta(seconds=4163, microseconds=94933), 'data': {'status': 'afk'}}\n"
     ]
    }
   ],
   "source": [
    "afk_1=client.get_event(f\"aw-watcher-afk_{hostname}\",event_id=46476)\n",
    "afk_2= client.get_event(f\"aw-watcher-afk_{hostname}\",event_id=46478)\n",
    "noise_event= client.get_event(f'aw-watcher-window_{hostname}',event_id=46477)\n",
    "print(f\"afk event 1: {afk_1}\\nNoise event: {noise_event}\\nafk event 2: {afk_2}\")"
   ]
  },
  {
   "attachments": {},
   "cell_type": "markdown",
   "metadata": {},
   "source": [
    "now that we have some rough bounds, let's examine the "
   ]
  },
  {
   "cell_type": "code",
   "execution_count": 49,
   "metadata": {},
   "outputs": [
    {
     "name": "stdout",
     "output_type": "stream",
     "text": [
      "Average unfocused duration: 98.31573163157894\n",
      "Average flow duration: 25.785870621621623\n"
     ]
    }
   ],
   "source": [
    "unfocused_durations=np.array([event.duration.total_seconds() for event in unfocused_events])\n",
    "flow_durations=np.array([event.duration.total_seconds() for event in flow_events])\n",
    "\n",
    "print(f'Average unfocused duration: {unfocused_durations.mean()}')\n",
    "print(f'Average flow duration: {flow_durations.mean()}')"
   ]
  },
  {
   "cell_type": "code",
   "execution_count": null,
   "metadata": {},
   "outputs": [],
   "source": []
  }
 ],
 "metadata": {
  "kernelspec": {
   "display_name": "anatomyofflow-2A9xIdX8-py3.11",
   "language": "python",
   "name": "python3"
  },
  "language_info": {
   "codemirror_mode": {
    "name": "ipython",
    "version": 3
   },
   "file_extension": ".py",
   "mimetype": "text/x-python",
   "name": "python",
   "nbconvert_exporter": "python",
   "pygments_lexer": "ipython3",
   "version": "3.11.3"
  },
  "orig_nbformat": 4
 },
 "nbformat": 4,
 "nbformat_minor": 2
}
